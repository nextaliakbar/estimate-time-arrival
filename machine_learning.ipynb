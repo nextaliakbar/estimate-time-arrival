{
 "cells": [
  {
   "cell_type": "code",
   "execution_count": 1,
   "id": "5c1dffa1",
   "metadata": {},
   "outputs": [],
   "source": [
    "import pandas as pd\n",
    "import numpy as np\n",
    "import matplotlib.pyplot as plt\n",
    "import seaborn as sns"
   ]
  },
  {
   "cell_type": "markdown",
   "id": "8a55da24",
   "metadata": {},
   "source": [
    "Data Understanding"
   ]
  },
  {
   "cell_type": "code",
   "execution_count": 2,
   "id": "2e7d0571",
   "metadata": {},
   "outputs": [
    {
     "data": {
      "application/vnd.microsoft.datawrangler.viewer.v0+json": {
       "columns": [
        {
         "name": "index",
         "rawType": "int64",
         "type": "integer"
        },
        {
         "name": "ID",
         "rawType": "object",
         "type": "unknown"
        },
        {
         "name": "Delivery_person_ID",
         "rawType": "object",
         "type": "string"
        },
        {
         "name": "Delivery_person_Age",
         "rawType": "int64",
         "type": "integer"
        },
        {
         "name": "Delivery_person_Ratings",
         "rawType": "float64",
         "type": "float"
        },
        {
         "name": "Restaurant_latitude",
         "rawType": "float64",
         "type": "float"
        },
        {
         "name": "Restaurant_longitude",
         "rawType": "float64",
         "type": "float"
        },
        {
         "name": "Delivery_location_latitude",
         "rawType": "float64",
         "type": "float"
        },
        {
         "name": "Delivery_location_longitude",
         "rawType": "float64",
         "type": "float"
        },
        {
         "name": "Type_of_order",
         "rawType": "object",
         "type": "string"
        },
        {
         "name": "Type_of_vehicle",
         "rawType": "object",
         "type": "string"
        },
        {
         "name": "Time_taken(min)",
         "rawType": "int64",
         "type": "integer"
        }
       ],
       "ref": "bceefdf0-6496-4670-90b3-68cb81d2a3c8",
       "rows": [
        [
         "0",
         "4607",
         "INDORES13DEL02",
         "37",
         "4.9",
         "22.745049",
         "75.892471",
         "22.765049",
         "75.912471",
         "Snack ",
         "motorcycle ",
         "24"
        ],
        [
         "1",
         "B379",
         "BANGRES18DEL02",
         "34",
         "4.5",
         "12.913041",
         "77.683237",
         "13.043041",
         "77.813237",
         "Snack ",
         "scooter ",
         "33"
        ],
        [
         "2",
         "5D6D",
         "BANGRES19DEL01",
         "23",
         "4.4",
         "12.914264",
         "77.6784",
         "12.924264",
         "77.6884",
         "Drinks ",
         "motorcycle ",
         "26"
        ],
        [
         "3",
         "7A6A",
         "COIMBRES13DEL02",
         "38",
         "4.7",
         "11.003669",
         "76.976494",
         "11.053669",
         "77.026494",
         "Buffet ",
         "motorcycle ",
         "21"
        ],
        [
         "4",
         "70A2",
         "CHENRES12DEL01",
         "32",
         "4.6",
         "12.972793",
         "80.249982",
         "13.012793",
         "80.289982",
         "Snack ",
         "scooter ",
         "30"
        ]
       ],
       "shape": {
        "columns": 11,
        "rows": 5
       }
      },
      "text/html": [
       "<div>\n",
       "<style scoped>\n",
       "    .dataframe tbody tr th:only-of-type {\n",
       "        vertical-align: middle;\n",
       "    }\n",
       "\n",
       "    .dataframe tbody tr th {\n",
       "        vertical-align: top;\n",
       "    }\n",
       "\n",
       "    .dataframe thead th {\n",
       "        text-align: right;\n",
       "    }\n",
       "</style>\n",
       "<table border=\"1\" class=\"dataframe\">\n",
       "  <thead>\n",
       "    <tr style=\"text-align: right;\">\n",
       "      <th></th>\n",
       "      <th>ID</th>\n",
       "      <th>Delivery_person_ID</th>\n",
       "      <th>Delivery_person_Age</th>\n",
       "      <th>Delivery_person_Ratings</th>\n",
       "      <th>Restaurant_latitude</th>\n",
       "      <th>Restaurant_longitude</th>\n",
       "      <th>Delivery_location_latitude</th>\n",
       "      <th>Delivery_location_longitude</th>\n",
       "      <th>Type_of_order</th>\n",
       "      <th>Type_of_vehicle</th>\n",
       "      <th>Time_taken(min)</th>\n",
       "    </tr>\n",
       "  </thead>\n",
       "  <tbody>\n",
       "    <tr>\n",
       "      <th>0</th>\n",
       "      <td>4607</td>\n",
       "      <td>INDORES13DEL02</td>\n",
       "      <td>37</td>\n",
       "      <td>4.9</td>\n",
       "      <td>22.745049</td>\n",
       "      <td>75.892471</td>\n",
       "      <td>22.765049</td>\n",
       "      <td>75.912471</td>\n",
       "      <td>Snack</td>\n",
       "      <td>motorcycle</td>\n",
       "      <td>24</td>\n",
       "    </tr>\n",
       "    <tr>\n",
       "      <th>1</th>\n",
       "      <td>B379</td>\n",
       "      <td>BANGRES18DEL02</td>\n",
       "      <td>34</td>\n",
       "      <td>4.5</td>\n",
       "      <td>12.913041</td>\n",
       "      <td>77.683237</td>\n",
       "      <td>13.043041</td>\n",
       "      <td>77.813237</td>\n",
       "      <td>Snack</td>\n",
       "      <td>scooter</td>\n",
       "      <td>33</td>\n",
       "    </tr>\n",
       "    <tr>\n",
       "      <th>2</th>\n",
       "      <td>5D6D</td>\n",
       "      <td>BANGRES19DEL01</td>\n",
       "      <td>23</td>\n",
       "      <td>4.4</td>\n",
       "      <td>12.914264</td>\n",
       "      <td>77.678400</td>\n",
       "      <td>12.924264</td>\n",
       "      <td>77.688400</td>\n",
       "      <td>Drinks</td>\n",
       "      <td>motorcycle</td>\n",
       "      <td>26</td>\n",
       "    </tr>\n",
       "    <tr>\n",
       "      <th>3</th>\n",
       "      <td>7A6A</td>\n",
       "      <td>COIMBRES13DEL02</td>\n",
       "      <td>38</td>\n",
       "      <td>4.7</td>\n",
       "      <td>11.003669</td>\n",
       "      <td>76.976494</td>\n",
       "      <td>11.053669</td>\n",
       "      <td>77.026494</td>\n",
       "      <td>Buffet</td>\n",
       "      <td>motorcycle</td>\n",
       "      <td>21</td>\n",
       "    </tr>\n",
       "    <tr>\n",
       "      <th>4</th>\n",
       "      <td>70A2</td>\n",
       "      <td>CHENRES12DEL01</td>\n",
       "      <td>32</td>\n",
       "      <td>4.6</td>\n",
       "      <td>12.972793</td>\n",
       "      <td>80.249982</td>\n",
       "      <td>13.012793</td>\n",
       "      <td>80.289982</td>\n",
       "      <td>Snack</td>\n",
       "      <td>scooter</td>\n",
       "      <td>30</td>\n",
       "    </tr>\n",
       "  </tbody>\n",
       "</table>\n",
       "</div>"
      ],
      "text/plain": [
       "     ID Delivery_person_ID  Delivery_person_Age  Delivery_person_Ratings  \\\n",
       "0  4607     INDORES13DEL02                   37                      4.9   \n",
       "1  B379     BANGRES18DEL02                   34                      4.5   \n",
       "2  5D6D     BANGRES19DEL01                   23                      4.4   \n",
       "3  7A6A    COIMBRES13DEL02                   38                      4.7   \n",
       "4  70A2     CHENRES12DEL01                   32                      4.6   \n",
       "\n",
       "   Restaurant_latitude  Restaurant_longitude  Delivery_location_latitude  \\\n",
       "0            22.745049             75.892471                   22.765049   \n",
       "1            12.913041             77.683237                   13.043041   \n",
       "2            12.914264             77.678400                   12.924264   \n",
       "3            11.003669             76.976494                   11.053669   \n",
       "4            12.972793             80.249982                   13.012793   \n",
       "\n",
       "   Delivery_location_longitude Type_of_order Type_of_vehicle  Time_taken(min)  \n",
       "0                    75.912471        Snack      motorcycle                24  \n",
       "1                    77.813237        Snack         scooter                33  \n",
       "2                    77.688400       Drinks      motorcycle                26  \n",
       "3                    77.026494       Buffet      motorcycle                21  \n",
       "4                    80.289982        Snack         scooter                30  "
      ]
     },
     "execution_count": 2,
     "metadata": {},
     "output_type": "execute_result"
    }
   ],
   "source": [
    "df = pd.read_excel('Food Delivery Time Prediction Case Study.xlsx')\n",
    "\n",
    "df.head()\n",
    "\n"
   ]
  },
  {
   "cell_type": "code",
   "execution_count": 3,
   "id": "a1c9c6c9",
   "metadata": {},
   "outputs": [
    {
     "name": "stdout",
     "output_type": "stream",
     "text": [
      "Jumlah baris dan kolom:  (45593, 11)\n",
      "\n",
      "ipe data: \n",
      "ID                              object\n",
      "Delivery_person_ID              object\n",
      "Delivery_person_Age              int64\n",
      "Delivery_person_Ratings        float64\n",
      "Restaurant_latitude            float64\n",
      "Restaurant_longitude           float64\n",
      "Delivery_location_latitude     float64\n",
      "Delivery_location_longitude    float64\n",
      "Type_of_order                   object\n",
      "Type_of_vehicle                 object\n",
      "Time_taken(min)                  int64\n",
      "dtype: object\n",
      "\n",
      "Statistik deskriptif: \n",
      "       Delivery_person_Age  Delivery_person_Ratings  Restaurant_latitude  \\\n",
      "count         45593.000000             45593.000000         45593.000000   \n",
      "mean             29.544075                 4.632367            17.017729   \n",
      "std               5.696793                 0.327708             8.185109   \n",
      "min              15.000000                 1.000000           -30.905562   \n",
      "25%              25.000000                 4.600000            12.933284   \n",
      "50%              29.000000                 4.700000            18.546947   \n",
      "75%              34.000000                 4.800000            22.728163   \n",
      "max              50.000000                 6.000000            30.914057   \n",
      "\n",
      "       Restaurant_longitude  Delivery_location_latitude  \\\n",
      "count          45593.000000                45593.000000   \n",
      "mean              70.231332                   17.465186   \n",
      "std               22.883647                    7.335122   \n",
      "min              -88.366217                    0.010000   \n",
      "25%               73.170000                   12.988453   \n",
      "50%               75.898497                   18.633934   \n",
      "75%               78.044095                   22.785049   \n",
      "max               88.433452                   31.054057   \n",
      "\n",
      "       Delivery_location_longitude  Time_taken(min)  \n",
      "count                 45593.000000     45593.000000  \n",
      "mean                     70.845702        26.294607  \n",
      "std                      21.118812         9.383806  \n",
      "min                       0.010000        10.000000  \n",
      "25%                      73.280000        19.000000  \n",
      "50%                      76.002574        26.000000  \n",
      "75%                      78.107044        32.000000  \n",
      "max                      88.563452        54.000000  \n",
      "\n",
      "Missing value: \n",
      "ID                             0\n",
      "Delivery_person_ID             0\n",
      "Delivery_person_Age            0\n",
      "Delivery_person_Ratings        0\n",
      "Restaurant_latitude            0\n",
      "Restaurant_longitude           0\n",
      "Delivery_location_latitude     0\n",
      "Delivery_location_longitude    0\n",
      "Type_of_order                  0\n",
      "Type_of_vehicle                0\n",
      "Time_taken(min)                0\n",
      "dtype: int64\n",
      "\n",
      "Duplikasi value:  0\n"
     ]
    }
   ],
   "source": [
    "# shape\n",
    "print(\"Jumlah baris dan kolom: \", df.shape)\n",
    "\n",
    "# Tipe data\n",
    "print(\"\\nipe data: \")\n",
    "print(df.dtypes)\n",
    "\n",
    "# Statistik deskriptif\n",
    "print(\"\\nStatistik deskriptif: \")\n",
    "print(df.describe())\n",
    "\n",
    "# Cek missing value\n",
    "print(\"\\nMissing value: \")\n",
    "print(df.isnull().sum())\n",
    "\n",
    "# Cek duplikasi value\n",
    "print(\"\\nDuplikasi value: \", df.duplicated().sum())"
   ]
  },
  {
   "cell_type": "markdown",
   "id": "728fe042",
   "metadata": {},
   "source": [
    "Data Preparation"
   ]
  },
  {
   "cell_type": "code",
   "execution_count": 4,
   "id": "aa7c4559",
   "metadata": {},
   "outputs": [
    {
     "data": {
      "application/vnd.microsoft.datawrangler.viewer.v0+json": {
       "columns": [
        {
         "name": "index",
         "rawType": "int64",
         "type": "integer"
        },
        {
         "name": "ID",
         "rawType": "object",
         "type": "unknown"
        },
        {
         "name": "Delivery_person_ID",
         "rawType": "object",
         "type": "string"
        },
        {
         "name": "Delivery_person_Age",
         "rawType": "int64",
         "type": "integer"
        },
        {
         "name": "Delivery_person_Ratings",
         "rawType": "float64",
         "type": "float"
        },
        {
         "name": "Restaurant_latitude",
         "rawType": "float64",
         "type": "float"
        },
        {
         "name": "Restaurant_longitude",
         "rawType": "float64",
         "type": "float"
        },
        {
         "name": "Delivery_location_latitude",
         "rawType": "float64",
         "type": "float"
        },
        {
         "name": "Delivery_location_longitude",
         "rawType": "float64",
         "type": "float"
        },
        {
         "name": "Type_of_order",
         "rawType": "object",
         "type": "string"
        },
        {
         "name": "Type_of_vehicle",
         "rawType": "object",
         "type": "string"
        },
        {
         "name": "Time_taken(min)",
         "rawType": "int64",
         "type": "integer"
        },
        {
         "name": "distance",
         "rawType": "float64",
         "type": "float"
        }
       ],
       "ref": "9cdf7fa2-56c7-45d6-a608-a454b1252a85",
       "rows": [
        [
         "0",
         "4607",
         "INDORES13DEL02",
         "37",
         "4.9",
         "22.745049",
         "75.892471",
         "22.765049",
         "75.912471",
         "Snack ",
         "motorcycle ",
         "24",
         "3.0251492856773803"
        ],
        [
         "1",
         "B379",
         "BANGRES18DEL02",
         "34",
         "4.5",
         "12.913041",
         "77.683237",
         "13.043041",
         "77.813237",
         "Snack ",
         "scooter ",
         "33",
         "20.18352972873287"
        ],
        [
         "2",
         "5D6D",
         "BANGRES19DEL01",
         "23",
         "4.4",
         "12.914264",
         "77.6784",
         "12.924264",
         "77.6884",
         "Drinks ",
         "motorcycle ",
         "26",
         "1.5527578022553539"
        ],
        [
         "3",
         "7A6A",
         "COIMBRES13DEL02",
         "38",
         "4.7",
         "11.003669",
         "76.976494",
         "11.053669",
         "77.026494",
         "Buffet ",
         "motorcycle ",
         "21",
         "7.790401360105807"
        ],
        [
         "4",
         "70A2",
         "CHENRES12DEL01",
         "32",
         "4.6",
         "12.972793",
         "80.249982",
         "13.012793",
         "80.289982",
         "Snack ",
         "scooter ",
         "30",
         "6.210137965623703"
        ]
       ],
       "shape": {
        "columns": 12,
        "rows": 5
       }
      },
      "text/html": [
       "<div>\n",
       "<style scoped>\n",
       "    .dataframe tbody tr th:only-of-type {\n",
       "        vertical-align: middle;\n",
       "    }\n",
       "\n",
       "    .dataframe tbody tr th {\n",
       "        vertical-align: top;\n",
       "    }\n",
       "\n",
       "    .dataframe thead th {\n",
       "        text-align: right;\n",
       "    }\n",
       "</style>\n",
       "<table border=\"1\" class=\"dataframe\">\n",
       "  <thead>\n",
       "    <tr style=\"text-align: right;\">\n",
       "      <th></th>\n",
       "      <th>ID</th>\n",
       "      <th>Delivery_person_ID</th>\n",
       "      <th>Delivery_person_Age</th>\n",
       "      <th>Delivery_person_Ratings</th>\n",
       "      <th>Restaurant_latitude</th>\n",
       "      <th>Restaurant_longitude</th>\n",
       "      <th>Delivery_location_latitude</th>\n",
       "      <th>Delivery_location_longitude</th>\n",
       "      <th>Type_of_order</th>\n",
       "      <th>Type_of_vehicle</th>\n",
       "      <th>Time_taken(min)</th>\n",
       "      <th>distance</th>\n",
       "    </tr>\n",
       "  </thead>\n",
       "  <tbody>\n",
       "    <tr>\n",
       "      <th>0</th>\n",
       "      <td>4607</td>\n",
       "      <td>INDORES13DEL02</td>\n",
       "      <td>37</td>\n",
       "      <td>4.9</td>\n",
       "      <td>22.745049</td>\n",
       "      <td>75.892471</td>\n",
       "      <td>22.765049</td>\n",
       "      <td>75.912471</td>\n",
       "      <td>Snack</td>\n",
       "      <td>motorcycle</td>\n",
       "      <td>24</td>\n",
       "      <td>3.025149</td>\n",
       "    </tr>\n",
       "    <tr>\n",
       "      <th>1</th>\n",
       "      <td>B379</td>\n",
       "      <td>BANGRES18DEL02</td>\n",
       "      <td>34</td>\n",
       "      <td>4.5</td>\n",
       "      <td>12.913041</td>\n",
       "      <td>77.683237</td>\n",
       "      <td>13.043041</td>\n",
       "      <td>77.813237</td>\n",
       "      <td>Snack</td>\n",
       "      <td>scooter</td>\n",
       "      <td>33</td>\n",
       "      <td>20.183530</td>\n",
       "    </tr>\n",
       "    <tr>\n",
       "      <th>2</th>\n",
       "      <td>5D6D</td>\n",
       "      <td>BANGRES19DEL01</td>\n",
       "      <td>23</td>\n",
       "      <td>4.4</td>\n",
       "      <td>12.914264</td>\n",
       "      <td>77.678400</td>\n",
       "      <td>12.924264</td>\n",
       "      <td>77.688400</td>\n",
       "      <td>Drinks</td>\n",
       "      <td>motorcycle</td>\n",
       "      <td>26</td>\n",
       "      <td>1.552758</td>\n",
       "    </tr>\n",
       "    <tr>\n",
       "      <th>3</th>\n",
       "      <td>7A6A</td>\n",
       "      <td>COIMBRES13DEL02</td>\n",
       "      <td>38</td>\n",
       "      <td>4.7</td>\n",
       "      <td>11.003669</td>\n",
       "      <td>76.976494</td>\n",
       "      <td>11.053669</td>\n",
       "      <td>77.026494</td>\n",
       "      <td>Buffet</td>\n",
       "      <td>motorcycle</td>\n",
       "      <td>21</td>\n",
       "      <td>7.790401</td>\n",
       "    </tr>\n",
       "    <tr>\n",
       "      <th>4</th>\n",
       "      <td>70A2</td>\n",
       "      <td>CHENRES12DEL01</td>\n",
       "      <td>32</td>\n",
       "      <td>4.6</td>\n",
       "      <td>12.972793</td>\n",
       "      <td>80.249982</td>\n",
       "      <td>13.012793</td>\n",
       "      <td>80.289982</td>\n",
       "      <td>Snack</td>\n",
       "      <td>scooter</td>\n",
       "      <td>30</td>\n",
       "      <td>6.210138</td>\n",
       "    </tr>\n",
       "  </tbody>\n",
       "</table>\n",
       "</div>"
      ],
      "text/plain": [
       "     ID Delivery_person_ID  Delivery_person_Age  Delivery_person_Ratings  \\\n",
       "0  4607     INDORES13DEL02                   37                      4.9   \n",
       "1  B379     BANGRES18DEL02                   34                      4.5   \n",
       "2  5D6D     BANGRES19DEL01                   23                      4.4   \n",
       "3  7A6A    COIMBRES13DEL02                   38                      4.7   \n",
       "4  70A2     CHENRES12DEL01                   32                      4.6   \n",
       "\n",
       "   Restaurant_latitude  Restaurant_longitude  Delivery_location_latitude  \\\n",
       "0            22.745049             75.892471                   22.765049   \n",
       "1            12.913041             77.683237                   13.043041   \n",
       "2            12.914264             77.678400                   12.924264   \n",
       "3            11.003669             76.976494                   11.053669   \n",
       "4            12.972793             80.249982                   13.012793   \n",
       "\n",
       "   Delivery_location_longitude Type_of_order Type_of_vehicle  Time_taken(min)  \\\n",
       "0                    75.912471        Snack      motorcycle                24   \n",
       "1                    77.813237        Snack         scooter                33   \n",
       "2                    77.688400       Drinks      motorcycle                26   \n",
       "3                    77.026494       Buffet      motorcycle                21   \n",
       "4                    80.289982        Snack         scooter                30   \n",
       "\n",
       "    distance  \n",
       "0   3.025149  \n",
       "1  20.183530  \n",
       "2   1.552758  \n",
       "3   7.790401  \n",
       "4   6.210138  "
      ]
     },
     "execution_count": 4,
     "metadata": {},
     "output_type": "execute_result"
    }
   ],
   "source": [
    "def haversine_distcane(lat1, lon1, lat2, lon2):\n",
    "    \"\"\"\n",
    "    Menghitung jarak antara dua titik di permukaan bumi menggunakan rumus haversine.\n",
    "    \"\"\"\n",
    "    R = 6371  # Radius bumi dalam kilometer\n",
    "    phi1 = np.radians(lat1)\n",
    "    phi2 = np.radians(lat2)\n",
    "    delta_phi = np.radians(lat2 - lat1)\n",
    "    delta_lambda = np.radians(lon2 - lon1)\n",
    "\n",
    "    a = np.sin(delta_phi / 2) ** 2 + np.cos(phi1) * np.cos(phi2) * np.sin(delta_lambda / 2) ** 2\n",
    "    c = 2 * np.arctan2(np.sqrt(a), np.sqrt(1 - a))\n",
    "\n",
    "    return R * c\n",
    "\n",
    "\n",
    "df['distance'] = haversine_distcane(\n",
    "    df['Restaurant_latitude'],\n",
    "    df['Restaurant_longitude'],\n",
    "    df['Delivery_location_latitude'],\n",
    "    df['Delivery_location_longitude']\n",
    ")\n",
    "\n",
    "df.head()"
   ]
  },
  {
   "cell_type": "code",
   "execution_count": 5,
   "id": "ff2ee64d",
   "metadata": {},
   "outputs": [],
   "source": [
    "df_encoded = pd.get_dummies(df, columns=['Type_of_vehicle'], drop_first=True)\n",
    "df_encoded.columns = df_encoded.columns.str.strip()"
   ]
  },
  {
   "cell_type": "code",
   "execution_count": 6,
   "id": "dff6acab",
   "metadata": {},
   "outputs": [
    {
     "data": {
      "application/vnd.microsoft.datawrangler.viewer.v0+json": {
       "columns": [
        {
         "name": "index",
         "rawType": "int64",
         "type": "integer"
        },
        {
         "name": "ID",
         "rawType": "object",
         "type": "unknown"
        },
        {
         "name": "Delivery_person_ID",
         "rawType": "object",
         "type": "string"
        },
        {
         "name": "Delivery_person_Age",
         "rawType": "int64",
         "type": "integer"
        },
        {
         "name": "Delivery_person_Ratings",
         "rawType": "float64",
         "type": "float"
        },
        {
         "name": "Restaurant_latitude",
         "rawType": "float64",
         "type": "float"
        },
        {
         "name": "Restaurant_longitude",
         "rawType": "float64",
         "type": "float"
        },
        {
         "name": "Delivery_location_latitude",
         "rawType": "float64",
         "type": "float"
        },
        {
         "name": "Delivery_location_longitude",
         "rawType": "float64",
         "type": "float"
        },
        {
         "name": "Type_of_order",
         "rawType": "object",
         "type": "string"
        },
        {
         "name": "Time_taken(min)",
         "rawType": "int64",
         "type": "integer"
        },
        {
         "name": "distance",
         "rawType": "float64",
         "type": "float"
        },
        {
         "name": "Type_of_vehicle_electric_scooter",
         "rawType": "bool",
         "type": "boolean"
        },
        {
         "name": "Type_of_vehicle_motorcycle",
         "rawType": "bool",
         "type": "boolean"
        },
        {
         "name": "Type_of_vehicle_scooter",
         "rawType": "bool",
         "type": "boolean"
        }
       ],
       "ref": "f5ae952f-102c-4190-980a-c342cfe7c751",
       "rows": [
        [
         "0",
         "4607",
         "INDORES13DEL02",
         "37",
         "4.9",
         "22.745049",
         "75.892471",
         "22.765049",
         "75.912471",
         "Snack ",
         "24",
         "3.0251492856773803",
         "False",
         "True",
         "False"
        ],
        [
         "1",
         "B379",
         "BANGRES18DEL02",
         "34",
         "4.5",
         "12.913041",
         "77.683237",
         "13.043041",
         "77.813237",
         "Snack ",
         "33",
         "20.18352972873287",
         "False",
         "False",
         "True"
        ],
        [
         "2",
         "5D6D",
         "BANGRES19DEL01",
         "23",
         "4.4",
         "12.914264",
         "77.6784",
         "12.924264",
         "77.6884",
         "Drinks ",
         "26",
         "1.5527578022553539",
         "False",
         "True",
         "False"
        ],
        [
         "3",
         "7A6A",
         "COIMBRES13DEL02",
         "38",
         "4.7",
         "11.003669",
         "76.976494",
         "11.053669",
         "77.026494",
         "Buffet ",
         "21",
         "7.790401360105807",
         "False",
         "True",
         "False"
        ],
        [
         "4",
         "70A2",
         "CHENRES12DEL01",
         "32",
         "4.6",
         "12.972793",
         "80.249982",
         "13.012793",
         "80.289982",
         "Snack ",
         "30",
         "6.210137965623703",
         "False",
         "False",
         "True"
        ]
       ],
       "shape": {
        "columns": 14,
        "rows": 5
       }
      },
      "text/html": [
       "<div>\n",
       "<style scoped>\n",
       "    .dataframe tbody tr th:only-of-type {\n",
       "        vertical-align: middle;\n",
       "    }\n",
       "\n",
       "    .dataframe tbody tr th {\n",
       "        vertical-align: top;\n",
       "    }\n",
       "\n",
       "    .dataframe thead th {\n",
       "        text-align: right;\n",
       "    }\n",
       "</style>\n",
       "<table border=\"1\" class=\"dataframe\">\n",
       "  <thead>\n",
       "    <tr style=\"text-align: right;\">\n",
       "      <th></th>\n",
       "      <th>ID</th>\n",
       "      <th>Delivery_person_ID</th>\n",
       "      <th>Delivery_person_Age</th>\n",
       "      <th>Delivery_person_Ratings</th>\n",
       "      <th>Restaurant_latitude</th>\n",
       "      <th>Restaurant_longitude</th>\n",
       "      <th>Delivery_location_latitude</th>\n",
       "      <th>Delivery_location_longitude</th>\n",
       "      <th>Type_of_order</th>\n",
       "      <th>Time_taken(min)</th>\n",
       "      <th>distance</th>\n",
       "      <th>Type_of_vehicle_electric_scooter</th>\n",
       "      <th>Type_of_vehicle_motorcycle</th>\n",
       "      <th>Type_of_vehicle_scooter</th>\n",
       "    </tr>\n",
       "  </thead>\n",
       "  <tbody>\n",
       "    <tr>\n",
       "      <th>0</th>\n",
       "      <td>4607</td>\n",
       "      <td>INDORES13DEL02</td>\n",
       "      <td>37</td>\n",
       "      <td>4.9</td>\n",
       "      <td>22.745049</td>\n",
       "      <td>75.892471</td>\n",
       "      <td>22.765049</td>\n",
       "      <td>75.912471</td>\n",
       "      <td>Snack</td>\n",
       "      <td>24</td>\n",
       "      <td>3.025149</td>\n",
       "      <td>False</td>\n",
       "      <td>True</td>\n",
       "      <td>False</td>\n",
       "    </tr>\n",
       "    <tr>\n",
       "      <th>1</th>\n",
       "      <td>B379</td>\n",
       "      <td>BANGRES18DEL02</td>\n",
       "      <td>34</td>\n",
       "      <td>4.5</td>\n",
       "      <td>12.913041</td>\n",
       "      <td>77.683237</td>\n",
       "      <td>13.043041</td>\n",
       "      <td>77.813237</td>\n",
       "      <td>Snack</td>\n",
       "      <td>33</td>\n",
       "      <td>20.183530</td>\n",
       "      <td>False</td>\n",
       "      <td>False</td>\n",
       "      <td>True</td>\n",
       "    </tr>\n",
       "    <tr>\n",
       "      <th>2</th>\n",
       "      <td>5D6D</td>\n",
       "      <td>BANGRES19DEL01</td>\n",
       "      <td>23</td>\n",
       "      <td>4.4</td>\n",
       "      <td>12.914264</td>\n",
       "      <td>77.678400</td>\n",
       "      <td>12.924264</td>\n",
       "      <td>77.688400</td>\n",
       "      <td>Drinks</td>\n",
       "      <td>26</td>\n",
       "      <td>1.552758</td>\n",
       "      <td>False</td>\n",
       "      <td>True</td>\n",
       "      <td>False</td>\n",
       "    </tr>\n",
       "    <tr>\n",
       "      <th>3</th>\n",
       "      <td>7A6A</td>\n",
       "      <td>COIMBRES13DEL02</td>\n",
       "      <td>38</td>\n",
       "      <td>4.7</td>\n",
       "      <td>11.003669</td>\n",
       "      <td>76.976494</td>\n",
       "      <td>11.053669</td>\n",
       "      <td>77.026494</td>\n",
       "      <td>Buffet</td>\n",
       "      <td>21</td>\n",
       "      <td>7.790401</td>\n",
       "      <td>False</td>\n",
       "      <td>True</td>\n",
       "      <td>False</td>\n",
       "    </tr>\n",
       "    <tr>\n",
       "      <th>4</th>\n",
       "      <td>70A2</td>\n",
       "      <td>CHENRES12DEL01</td>\n",
       "      <td>32</td>\n",
       "      <td>4.6</td>\n",
       "      <td>12.972793</td>\n",
       "      <td>80.249982</td>\n",
       "      <td>13.012793</td>\n",
       "      <td>80.289982</td>\n",
       "      <td>Snack</td>\n",
       "      <td>30</td>\n",
       "      <td>6.210138</td>\n",
       "      <td>False</td>\n",
       "      <td>False</td>\n",
       "      <td>True</td>\n",
       "    </tr>\n",
       "  </tbody>\n",
       "</table>\n",
       "</div>"
      ],
      "text/plain": [
       "     ID Delivery_person_ID  Delivery_person_Age  Delivery_person_Ratings  \\\n",
       "0  4607     INDORES13DEL02                   37                      4.9   \n",
       "1  B379     BANGRES18DEL02                   34                      4.5   \n",
       "2  5D6D     BANGRES19DEL01                   23                      4.4   \n",
       "3  7A6A    COIMBRES13DEL02                   38                      4.7   \n",
       "4  70A2     CHENRES12DEL01                   32                      4.6   \n",
       "\n",
       "   Restaurant_latitude  Restaurant_longitude  Delivery_location_latitude  \\\n",
       "0            22.745049             75.892471                   22.765049   \n",
       "1            12.913041             77.683237                   13.043041   \n",
       "2            12.914264             77.678400                   12.924264   \n",
       "3            11.003669             76.976494                   11.053669   \n",
       "4            12.972793             80.249982                   13.012793   \n",
       "\n",
       "   Delivery_location_longitude Type_of_order  Time_taken(min)   distance  \\\n",
       "0                    75.912471        Snack                24   3.025149   \n",
       "1                    77.813237        Snack                33  20.183530   \n",
       "2                    77.688400       Drinks                26   1.552758   \n",
       "3                    77.026494       Buffet                21   7.790401   \n",
       "4                    80.289982        Snack                30   6.210138   \n",
       "\n",
       "   Type_of_vehicle_electric_scooter  Type_of_vehicle_motorcycle  \\\n",
       "0                             False                        True   \n",
       "1                             False                       False   \n",
       "2                             False                        True   \n",
       "3                             False                        True   \n",
       "4                             False                       False   \n",
       "\n",
       "   Type_of_vehicle_scooter  \n",
       "0                    False  \n",
       "1                     True  \n",
       "2                    False  \n",
       "3                    False  \n",
       "4                     True  "
      ]
     },
     "execution_count": 6,
     "metadata": {},
     "output_type": "execute_result"
    }
   ],
   "source": [
    "df_encoded.head()"
   ]
  },
  {
   "cell_type": "code",
   "execution_count": 7,
   "id": "ad757a32",
   "metadata": {},
   "outputs": [],
   "source": [
    "df_model = df_encoded.drop(columns=[\n",
    "    'ID', 'Delivery_person_ID',\n",
    "    'Restaurant_latitude', 'Restaurant_longitude',\n",
    "    'Delivery_location_latitude', 'Delivery_location_longitude',\n",
    "    'Type_of_order'\n",
    "])"
   ]
  },
  {
   "cell_type": "code",
   "execution_count": 9,
   "id": "8331a78a",
   "metadata": {},
   "outputs": [
    {
     "name": "stdout",
     "output_type": "stream",
     "text": [
      "Jumlah baris dan kolom:  (45593, 7)\n",
      "\n",
      "tipe data: \n",
      "Delivery_person_Age                   int64\n",
      "Delivery_person_Ratings             float64\n",
      "Time_taken(min)                       int64\n",
      "distance                            float64\n",
      "Type_of_vehicle_electric_scooter       bool\n",
      "Type_of_vehicle_motorcycle             bool\n",
      "Type_of_vehicle_scooter                bool\n",
      "dtype: object\n"
     ]
    }
   ],
   "source": [
    "df_model.head()\n",
    "\n",
    "# shape\n",
    "print(\"Jumlah baris dan kolom: \", df_model.shape)\n",
    "\n",
    "# Tipe data\n",
    "print(\"\\ntipe data: \")\n",
    "print(df_model.dtypes)"
   ]
  },
  {
   "cell_type": "markdown",
   "id": "7a84cbbc",
   "metadata": {},
   "source": [
    "Data Visualization"
   ]
  },
  {
   "cell_type": "code",
   "execution_count": 9,
   "id": "98dcac30",
   "metadata": {},
   "outputs": [
    {
     "data": {
      "image/png": "[encoded data removed]",
      "text/plain": [
       "<Figure size 800x400 with 1 Axes>"
      ]
     },
     "metadata": {},
     "output_type": "display_data"
    }
   ],
   "source": [
    "plt.figure(figsize=(8, 4))\n",
    "sns.histplot(df_model['Time_taken(min)'], bins=30, kde=True)\n",
    "plt.title('Distribusi Waktu Pengantaran')\n",
    "plt.xlabel('Waktu Pengantaran (menit)')\n",
    "plt.ylabel('Frekuensi Pengantaran')\n",
    "plt.show()"
   ]
  },
  {
   "cell_type": "code",
   "execution_count": 10,
   "id": "d616efe4",
   "metadata": {},
   "outputs": [
    {
     "data": {
      "image/png": "[encoded data removed]",
      "text/plain": [
       "<Figure size 1200x800 with 2 Axes>"
      ]
     },
     "metadata": {},
     "output_type": "display_data"
    }
   ],
   "source": [
    "plt.figure(figsize=(12, 8))\n",
    "sns.heatmap(df_model.corr(), annot=True, fmt='.2f', cmap='coolwarm')\n",
    "plt.title('Korelasi Antara Fitur')\n",
    "plt.show()"
   ]
  },
  {
   "cell_type": "markdown",
   "id": "78bd8ab6",
   "metadata": {},
   "source": [
    "Modeling"
   ]
  },
  {
   "cell_type": "code",
   "execution_count": 14,
   "id": "e230b510",
   "metadata": {},
   "outputs": [
    {
     "name": "stderr",
     "output_type": "stream",
     "text": [
      "C:\\Users\\usER\\AppData\\Roaming\\Python\\Python313\\site-packages\\sklearn\\metrics\\_regression.py:492: FutureWarning: 'squared' is deprecated in version 1.4 and will be removed in 1.6. To calculate the root mean squared error, use the function'root_mean_squared_error'.\n",
      "  warnings.warn(\n",
      "C:\\Users\\usER\\AppData\\Roaming\\Python\\Python313\\site-packages\\sklearn\\metrics\\_regression.py:492: FutureWarning: 'squared' is deprecated in version 1.4 and will be removed in 1.6. To calculate the root mean squared error, use the function'root_mean_squared_error'.\n",
      "  warnings.warn(\n",
      "C:\\Users\\usER\\AppData\\Roaming\\Python\\Python313\\site-packages\\sklearn\\metrics\\_regression.py:492: FutureWarning: 'squared' is deprecated in version 1.4 and will be removed in 1.6. To calculate the root mean squared error, use the function'root_mean_squared_error'.\n",
      "  warnings.warn(\n"
     ]
    },
    {
     "name": "stdout",
     "output_type": "stream",
     "text": [
      "Evaluation Metrics - Random Forest\n",
      "MAE  : 6.18 menit\n",
      "RMSE : 7.97 menit\n",
      "R2   : 0.28\n",
      "\n",
      "Evaluation Metrics - XGBoost\n",
      "MAE  : 5.66 menit\n",
      "RMSE : 7.20 menit\n",
      "R2   : 0.41\n",
      "\n",
      "Evaluation Metrics - K-Nearest Neighbors\n",
      "MAE  : 6.30 menit\n",
      "RMSE : 8.04 menit\n",
      "R2   : 0.26\n"
     ]
    },
    {
     "data": {
      "image/png": "[encoded data removed]",
      "text/plain": [
       "<Figure size 2400x700 with 3 Axes>"
      ]
     },
     "metadata": {},
     "output_type": "display_data"
    }
   ],
   "source": [
    "from sklearn.model_selection import train_test_split\n",
    "from sklearn.ensemble import RandomForestRegressor\n",
    "from xgboost import XGBRegressor\n",
    "from sklearn.neighbors import KNeighborsRegressor\n",
    "from sklearn.metrics import mean_absolute_error, mean_squared_error, r2_score\n",
    "from sklearn.inspection import permutation_importance\n",
    "\n",
    "X = df_model.drop(columns=['Time_taken(min)'], axis=1)\n",
    "y = df_model['Time_taken(min)']\n",
    "\n",
    "X_train, X_test, y_train, y_test = train_test_split(X, y, test_size=0.2, random_state=42)\n",
    "\n",
    "# Random Forest\n",
    "model_rf = RandomForestRegressor(n_estimators=100, random_state=42, n_jobs=-1)\n",
    "model_rf.fit(X_train, y_train)\n",
    "y_pred_rf = model_rf.predict(X_test)\n",
    "mae_rf = mean_absolute_error(y_test, y_pred_rf)\n",
    "rmse_rf = mean_squared_error(y_test, y_pred_rf, squared=False)\n",
    "r2_rf = r2_score(y_test, y_pred_rf)\n",
    "\n",
    "# XGBoost\n",
    "xgb_model = XGBRegressor(\n",
    "    n_estimators=100,\n",
    "    random_state=42,\n",
    "    max_depth=5,\n",
    "    learning_rate=0.1,\n",
    "    early_stopping_rounds=10\n",
    ")\n",
    "xgb_model.fit(X_train, y_train, eval_set=[(X_test, y_test)], verbose=False)\n",
    "y_pred_xgb = xgb_model.predict(X_test)\n",
    "mae_xgb = mean_absolute_error(y_test, y_pred_xgb)\n",
    "rmse_xgb = mean_squared_error(y_test, y_pred_xgb, squared=False)\n",
    "r2_xgb = r2_score(y_test, y_pred_xgb)\n",
    "\n",
    "# K-Nearest Neighbors\n",
    "knn_model = KNeighborsRegressor(n_neighbors=5)\n",
    "knn_model.fit(X_train, y_train)\n",
    "y_pred_knn = knn_model.predict(X_test)\n",
    "mae_knn = mean_absolute_error(y_test, y_pred_knn)\n",
    "rmse_knn = mean_squared_error(y_test, y_pred_knn, squared=False)\n",
    "r2_knn = r2_score(y_test, y_pred_knn)\n",
    "\n",
    "# Print evaluation metrics\n",
    "print(\"Evaluation Metrics - Random Forest\")\n",
    "print(f\"MAE  : {mae_rf:.2f} menit\")\n",
    "print(f\"RMSE : {rmse_rf:.2f} menit\")\n",
    "print(f\"R2   : {r2_rf:.2f}\\n\")\n",
    "\n",
    "print(\"Evaluation Metrics - XGBoost\")\n",
    "print(f\"MAE  : {mae_xgb:.2f} menit\")\n",
    "print(f\"RMSE : {rmse_xgb:.2f} menit\")\n",
    "print(f\"R2   : {r2_xgb:.2f}\\n\")\n",
    "\n",
    "print(\"Evaluation Metrics - K-Nearest Neighbors\")\n",
    "print(f\"MAE  : {mae_knn:.2f} menit\")\n",
    "print(f\"RMSE : {rmse_knn:.2f} menit\")\n",
    "print(f\"R2   : {r2_knn:.2f}\")\n",
    "\n",
    "# Feature Importances Comparison (RF, XGB, KNN-permutation)\n",
    "importances_rf = pd.Series(model_rf.feature_importances_, index=X.columns)\n",
    "importances_xgb = pd.Series(xgb_model.feature_importances_, index=X.columns)\n",
    "\n",
    "perm_knn = permutation_importance(knn_model, X_test, y_test, n_repeats=10, random_state=42)\n",
    "importances_knn = pd.Series(perm_knn.importances_mean, index=X.columns)\n",
    "\n",
    "fig, axes = plt.subplots(1, 3, figsize=(24, 7))\n",
    "importances_rf.sort_values().plot(kind='barh', ax=axes[0], title='Random Forest Feature Importances')\n",
    "importances_xgb.sort_values().plot(kind='barh', ax=axes[1], title='XGBoost Feature Importances')\n",
    "importances_knn.sort_values().plot(kind='barh', ax=axes[2], title='K-NN Permutation Importances')\n",
    "axes[0].set_xlabel('Feature Importance Score')\n",
    "axes[1].set_xlabel('Feature Importance Score')\n",
    "axes[2].set_xlabel('Permutation Importance Score')\n",
    "plt.tight_layout()\n",
    "plt.show()"
   ]
  },
  {
   "cell_type": "code",
   "execution_count": null,
   "id": "8fb93dd1",
   "metadata": {},
   "outputs": [
    {
     "data": {
      "text/plain": [
       "['model_xgb.pkl']"
      ]
     },
     "execution_count": 77,
     "metadata": {},
     "output_type": "execute_result"
    }
   ],
   "source": [
    "import joblib\n",
    "\n",
    "# joblib.dump(model_rf, 'model_rf.pkl')\n",
    "joblib.dump(xgb_model, 'model_xgb                                                                                                                                                                                                                                                                                                                                                                                                           .pkl')"
   ]
  },
  {
   "cell_type": "code",
   "execution_count": 78,
   "id": "a52b1406",
   "metadata": {},
   "outputs": [
    {
     "name": "stdout",
     "output_type": "stream",
     "text": [
      "['Delivery_person_Age', 'Delivery_person_Ratings', 'distance', 'Type_of_vehicle_electric_scooter', 'Type_of_vehicle_motorcycle', 'Type_of_vehicle_scooter']\n"
     ]
    }
   ],
   "source": [
    "print(xgb_model.get_booster().feature_names)\n",
    "# print(model_rf.get_booster().feature_names)"
   ]
  }
 ],
 "metadata": {
  "kernelspec": {
   "display_name": "Python 3",
   "language": "python",
   "name": "python3"
  },
  "language_info": {
   "codemirror_mode": {
    "name": "ipython",
    "version": 3
   },
   "file_extension": ".py",
   "mimetype": "text/x-python",
   "name": "python",
   "nbconvert_exporter": "python",
   "pygments_lexer": "ipython3",
   "version": "3.13.0"
  }
 },
 "nbformat": 4,
 "nbformat_minor": 5
}
